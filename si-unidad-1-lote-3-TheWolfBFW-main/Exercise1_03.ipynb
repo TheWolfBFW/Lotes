{
  "metadata": {
    "kernelspec": {
      "name": "python",
      "display_name": "Pyolite",
      "language": "python"
    },
    "language_info": {
      "codemirror_mode": {
        "name": "python",
        "version": 3
      },
      "file_extension": ".py",
      "mimetype": "text/x-python",
      "name": "python",
      "nbconvert_exporter": "python",
      "pygments_lexer": "ipython3",
      "version": "3.8"
    }
  },
  "nbformat_minor": 4,
  "nbformat": 4,
  "cells": [
    {
      "cell_type": "markdown",
      "source": "# Exercise 1.03: Teaching the Agent to Win\n\nIn this exercise, we will see how the steps needed to win can be reduced. We will be making the agent that we developed in the previous section activity detect situations where it can win a game.\n\nThe following steps will help you to complete this exercise:",
      "metadata": {}
    },
    {
      "cell_type": "markdown",
      "source": "1.- Reuse the previous code from Steps 1–5 from Activity 1.01",
      "metadata": {}
    },
    {
      "cell_type": "code",
      "source": "# steps Steps 1-5 from Exercise 1.02",
      "metadata": {},
      "execution_count": 1,
      "outputs": []
    },
    {
      "cell_type": "code",
      "source": "# steps 2-5 of Acctivity",
      "metadata": {},
      "execution_count": 2,
      "outputs": []
    },
    {
      "cell_type": "code",
      "source": "from random import choice\n\ncombo_indices = [\n    [0, 1, 2],\n    [3, 4, 5],\n    [6, 7, 8],\n    [0, 3, 6],\n    [1, 4, 7],\n    [2, 5, 8],\n    [0, 4, 8],\n    [2, 4, 6]\n]\n\nEMPTY_SIGN = '.'\nAI_SIGN = 'X'\nOPPONENT_SIGN = 'O'\n\ndef print_board(board):\n    print(\" \")\n    print(' '.join(board[:3]))\n    print(' '.join(board[3:6]))\n    print(' '.join(board[6:]))\n    print(\" \")\n\ndef opponent_move(board, row, column):\n    index = 3 * (row - 1) + (column - 1)\n    if board[index] == EMPTY_SIGN:\n        return board[:index] + OPPONENT_SIGN + board[index+1:]\n    return board\n\ndef all_moves_from_board(board, sign):\n    move_list = []\n    for i, v in enumerate(board):\n        if v == EMPTY_SIGN:\n            new_board = board[:i] + sign + board[i+1:]\n            move_list.append(new_board)\n            if game_won_by(new_board) == AI_SIGN:\n                return [new_board]\n    return move_list",
      "metadata": {
        "trusted": true
      },
      "execution_count": 8,
      "outputs": []
    },
    {
      "cell_type": "markdown",
      "source": "2.- Re-define the function, `ai_move`.  `ai_move` will return a move that consider its own previous moves. If the game can be won in that move, ai_move will select that move:",
      "metadata": {}
    },
    {
      "cell_type": "code",
      "source": "def ai_move(board):\n    new_boards = all_moves_from_board(board, AI_SIGN)\n    for new_board in new_boards:\n        if game_won_by(new_board) == AI_SIGN:\n            return new_board\n    return choice(new_boards)\n\ndef game_won_by(board):\n    for index in combo_indices:\n        if board[index[0]] == board[index[1]] == board[index[2]] != EMPTY_SIGN:\n            return board[index[0]]\n    return EMPTY_SIGN\n\ndef game_loop():\n    board = EMPTY_SIGN * 9\n    empty_cell_count = 9\n    is_game_ended = False\n    while empty_cell_count > 0 and not is_game_ended:\n        if empty_cell_count % 2 == 1:\n            board = ai_move(board)\n        else:\n            row = int(input('Enter row: '))\n            col = int(input('Enter column: '))\n            board = opponent_move(board, row, col)\n        print_board(board)\n        is_game_ended = game_won_by(board) != EMPTY_SIGN\n        empty_cell_count = sum(1 for cell in board if cell == EMPTY_SIGN)\n    print('Game has been ended.')",
      "metadata": {
        "trusted": true
      },
      "execution_count": 9,
      "outputs": []
    },
    {
      "cell_type": "markdown",
      "source": "3.- Test the code snippet with a game loop.",
      "metadata": {}
    },
    {
      "cell_type": "code",
      "source": "game_loop()",
      "metadata": {
        "trusted": true
      },
      "execution_count": null,
      "outputs": []
    },
    {
      "cell_type": "markdown",
      "source": "4.- Count all the possible moves. To do this, we must change the `all_moves_from_board` function to include this improvement. We must do this so that, if the game is won by `AI_SIGN`, it will return that value",
      "metadata": {}
    },
    {
      "cell_type": "code",
      "source": "def all_moves_from_board_list(board_list, sign):\n    move_list = []\n    for board in board_list:\n        move_list.extend(all_moves_from_board(board, sign))\n    return move_list\n\ndef filter_wins(move_list, ai_wins, opponent_wins):\n    for board in move_list:\n        won_by = game_won_by(board)\n        if won_by == AI_SIGN:\n            ai_wins.append(board)\n            move_list.remove(board)\n        elif won_by == OPPONENT_SIGN:\n            opponent_wins.append(board)\n            move_list.remove(board)\n            \ndef count_possibilities():\n    board = EMPTY_SIGN * 9\n    move_list = [board]\n    ai_wins = []\n    opponent_wins = []\n    for i in range(9):\n        print('step ' + str(i) + '. Moves: ' + str(len(move_list)))\n        sign = AI_SIGN if i % 2 == 0 else OPPONENT_SIGN\n        move_list = all_moves_from_board_list(move_list, sign)\n        filter_wins(move_list, ai_wins, opponent_wins)\n    print('First player wins: ' + str(len(ai_wins)))\n    print('Second player wins: ' + str(len(opponent_wins)))\n    print('Draw', str(len(move_list)))\n    print('Total', str(len(ai_wins) + len(opponent_wins) + len(move_list)))\n    return len(ai_wins), len(opponent_wins), len(move_list), len(ai_wins) + len(opponent_wins) + len(move_list)\n\ndef ai_move(board):\n    new_boards = all_moves_from_board(board, AI_SIGN)\n    for new_board in new_boards:\n        if game_won_by(new_board) == AI_SIGN:\n            return new_board\n    return choice(new_boards)\n\ndef all_moves_from_board(board, sign):\n    move_list = []\n    for i, v in enumerate(board):\n        if v == EMPTY_SIGN:\n            new_board = board[:i] + sign + board[i+1:]\n            move_list.append(new_board)\n            if game_won_by(new_board) == AI_SIGN:\n                return [new_board]\n    return move_list",
      "metadata": {
        "trusted": true
      },
      "execution_count": 11,
      "outputs": []
    },
    {
      "cell_type": "markdown",
      "source": "5.- find all the possibilities using the `count_possibilities` function\n\nOutput:\n\n```\nstep 0. Moves: 1\n step 1. Moves: 9\n step 2. Moves: 72\n step 3. Moves: 504\n step 4. Moves: 3024\n step 5. Moves: 8525\n step 6. Moves: 28612\n step 7. Moves: 42187\n step 8. Moves: 55888\n First player wins: 32395\n Second player wins: 23445\n Draw 35544\n Total 91384\n```",
      "metadata": {}
    },
    {
      "cell_type": "code",
      "source": "first_player, second_player, draw, total = count_possibilities()",
      "metadata": {
        "trusted": true
      },
      "execution_count": null,
      "outputs": [
        {
          "name": "stdout",
          "text": "step 0. Moves: 1\nstep 1. Moves: 9\nstep 2. Moves: 72\nstep 3. Moves: 504\nstep 4. Moves: 3024\nstep 5. Moves: 8525\nstep 6. Moves: 28612\nstep 7. Moves: 42187\nstep 8. Moves: 55888\n",
          "output_type": "stream"
        }
      ]
    },
    {
      "cell_type": "code",
      "source": "",
      "metadata": {},
      "execution_count": null,
      "outputs": []
    }
  ]
}