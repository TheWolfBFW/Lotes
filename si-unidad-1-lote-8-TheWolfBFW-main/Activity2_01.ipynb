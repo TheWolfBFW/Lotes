{
 "cells": [
  {
   "cell_type": "markdown",
   "metadata": {},
   "source": [
    "# Activity 2.01: Boston House Price Prediction with Polynomial Regression of Degrees 1, 2, and 3 on Multiple Variables\n",
    "\n",
    "In this activity, you will need to perform linear polynomial regression of degrees 1, 2, and 3 with scikit-learn and find the best model. You will work on the Boston House Prices dataset. The Boston House Price dataset is very famous and has been used as an example for research on regression models.\n",
    "\n",
    "  > **Note**  \n",
    "  > More details about the Boston House Prices dataset can be found at [https://archive.ics.uci.edu/ml/machine-learning-databases/housing/](https://archive.ics.uci.edu/ml/machine-learning-databases/housing/).\n",
    "  \n",
    "You will need to predict the prices of houses in Boston (label) based on their characteristics (features). Your main goal will be to build 3 linear models using polynomial regressions of degrees `1`, `2`, and `3` with all the features of the dataset. You can find the following dataset description:\n",
    "\n",
    "![Figure 2.26](img/fig2_26.jpg)\n",
    "\n",
    "We will define our label as the `MEDV` field, which is the median value of the house in 1,000s. All of the other fields will be used as our features for our models. As this dataset does not contain any missing values, we won't have to replace missing values as we did in the previous exercises.\n",
    "\n",
    "\n",
    "  > **Hints**  \n",
    "  >  1. Import the required packages and load the Boston House Prices data into a DataFrame.\n",
    "  >  2. Prepare the dataset for prediction by converting the label and features into NumPy arrays and scaling the features.\n",
    "  >  3. Create three different sets of features by transforming the scaled features into suitable formats for each of the polynomial regressions.\n",
    "  >  4. Split the data into training and testing sets with `random state = 8`.\n",
    "  >  5. Perform a polynomial regression of degree 1 and evaluate whether the model is overfitting.\n",
    "  >  6. Perform a polynomial regression of degree 2 and evaluate whether the model is overfitting.\n",
    "  >  7. Perform a polynomial regression of degree 3 and evaluate whether the model is overfitting.\n",
    "  >  8. Compare the predictions of the three models against the label on the testing set.\n",
    "  \n",
    "Output:\n",
    "\n",
    "![Figure 2.27](img/fig2_27.jpg)"
   ]
  },
  {
   "cell_type": "code",
   "execution_count": null,
   "metadata": {},
   "outputs": [],
   "source": []
  },
  {
   "cell_type": "code",
   "execution_count": null,
   "metadata": {},
   "outputs": [],
   "source": []
  },
  {
   "cell_type": "code",
   "execution_count": null,
   "metadata": {},
   "outputs": [],
   "source": []
  },
  {
   "cell_type": "code",
   "execution_count": null,
   "metadata": {},
   "outputs": [],
   "source": []
  },
  {
   "cell_type": "code",
   "execution_count": null,
   "metadata": {},
   "outputs": [],
   "source": []
  },
  {
   "cell_type": "code",
   "execution_count": null,
   "metadata": {},
   "outputs": [],
   "source": []
  },
  {
   "cell_type": "code",
   "execution_count": null,
   "metadata": {},
   "outputs": [],
   "source": []
  },
  {
   "cell_type": "code",
   "execution_count": null,
   "metadata": {},
   "outputs": [],
   "source": []
  },
  {
   "cell_type": "code",
   "execution_count": null,
   "metadata": {},
   "outputs": [],
   "source": []
  },
  {
   "cell_type": "code",
   "execution_count": null,
   "metadata": {},
   "outputs": [],
   "source": []
  }
 ],
 "metadata": {
  "kernelspec": {
   "display_name": "Python 3",
   "language": "python",
   "name": "python3"
  },
  "language_info": {
   "codemirror_mode": {
    "name": "ipython",
    "version": 3
   },
   "file_extension": ".py",
   "mimetype": "text/x-python",
   "name": "python",
   "nbconvert_exporter": "python",
   "pygments_lexer": "ipython3",
   "version": "3.8.5"
  }
 },
 "nbformat": 4,
 "nbformat_minor": 4
}
