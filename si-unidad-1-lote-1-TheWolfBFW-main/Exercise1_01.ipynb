{
  "metadata": {
    "interpreter": {
      "hash": "7f683a2bcbd4cf793bfdeaa1622a424888a70270ced0a0ddc3bd2a7b122f3209"
    },
    "kernelspec": {
      "name": "python",
      "display_name": "Pyolite",
      "language": "python"
    },
    "language_info": {
      "codemirror_mode": {
        "name": "python",
        "version": 3
      },
      "file_extension": ".py",
      "mimetype": "text/x-python",
      "name": "python",
      "nbconvert_exporter": "python",
      "pygments_lexer": "ipython3",
      "version": "3.8"
    }
  },
  "nbformat_minor": 4,
  "nbformat": 4,
  "cells": [
    {
      "cell_type": "markdown",
      "source": "# Exercise 1.01: Matrix Operations Using NumPy\n\nWe will be using Jupyter Notebook and the following matrix to solve this exercise.\n\nWe will calculate the square of the matrix, which is determinant of the matrix and the transpose of the matrix shown in the following figure, using NumPy:\n\n![Figure 1.2](img/fig1_02.jpg)",
      "metadata": {}
    },
    {
      "cell_type": "markdown",
      "source": "1.- Import the `numpy` library as `np`",
      "metadata": {}
    },
    {
      "cell_type": "code",
      "source": "import numpy as np",
      "metadata": {
        "tags": [],
        "trusted": true
      },
      "execution_count": 5,
      "outputs": []
    },
    {
      "cell_type": "markdown",
      "source": "2.- Create a two-dimensional array called `A` for storing the $[[1,2,3],[4,5,6],[7,8,9]]$ matrix using `np.mat`, then show de variable A\n\nOutput:\n\n```\nmatrix([[1, 2, 3],\n        [4, 5, 6],\n        [7, 8, 9]])\n```\n\n  > If you have created an np.array instead of np.mat, the solution for the array multiplication will be incorrect.",
      "metadata": {}
    },
    {
      "cell_type": "code",
      "source": "A = np.mat ([[1,2,3],[4,5,6],[7,8,9]])\nA",
      "metadata": {
        "tags": [],
        "trusted": true
      },
      "execution_count": 8,
      "outputs": [
        {
          "execution_count": 8,
          "output_type": "execute_result",
          "data": {
            "text/plain": "matrix([[1, 2, 3],\n        [4, 5, 6],\n        [7, 8, 9]])"
          },
          "metadata": {}
        }
      ]
    },
    {
      "cell_type": "markdown",
      "source": "3.- Perform matrix multiplication using the asterisk and save the result in a variable called `matmult`",
      "metadata": {}
    },
    {
      "cell_type": "code",
      "source": "matmult = A * A\nmatmult",
      "metadata": {
        "trusted": true
      },
      "execution_count": 9,
      "outputs": [
        {
          "execution_count": 9,
          "output_type": "execute_result",
          "data": {
            "text/plain": "matrix([[ 30,  36,  42],\n        [ 66,  81,  96],\n        [102, 126, 150]])"
          },
          "metadata": {}
        }
      ]
    },
    {
      "cell_type": "markdown",
      "source": "4.- Manually calculate the square of A by performing matrix multiplication. Show the result.\n\nOutput:\n\n```\n30\n```",
      "metadata": {}
    },
    {
      "cell_type": "code",
      "source": "1 * 1 + 2 * 4 + 3 * 7",
      "metadata": {
        "trusted": true
      },
      "execution_count": 10,
      "outputs": [
        {
          "execution_count": 10,
          "output_type": "execute_result",
          "data": {
            "text/plain": "30"
          },
          "metadata": {}
        }
      ]
    },
    {
      "cell_type": "markdown",
      "source": "5.- Use `np.linalg.det` to calculate the determinant of the matrix and save the result in a variable called `det`.\n\nOutput:\n\n```\n0.0\n```",
      "metadata": {}
    },
    {
      "cell_type": "code",
      "source": "det = np.linalg.det( A )\ndet",
      "metadata": {
        "trusted": true
      },
      "execution_count": 12,
      "outputs": [
        {
          "execution_count": 12,
          "output_type": "execute_result",
          "data": {
            "text/plain": "6.66133814775094e-16"
          },
          "metadata": {}
        }
      ]
    },
    {
      "cell_type": "markdown",
      "source": "6.- Use `np.matrix.transpose` to get the transpose of the matrix and save the result in a variable called `transpose`\n\nOutput:\n\n```\nmatrix([[1, 4, 7],\n        [2, 5, 8],\n        [3, 6, 9]])\n```",
      "metadata": {}
    },
    {
      "cell_type": "code",
      "source": "transpose = np.matrix.transpose(A)\ntranspose",
      "metadata": {
        "trusted": true
      },
      "execution_count": 13,
      "outputs": [
        {
          "execution_count": 13,
          "output_type": "execute_result",
          "data": {
            "text/plain": "matrix([[1, 4, 7],\n        [2, 5, 8],\n        [3, 6, 9]])"
          },
          "metadata": {}
        }
      ]
    },
    {
      "cell_type": "markdown",
      "source": "By completing this exercise, you have seen that NumPy comes with many useful features for vectors, matrices, and other mathematical structures.\n\nIn the upcoming section, we will be implementing AI in an interesting tic-tac-toe game using Python.",
      "metadata": {}
    },
    {
      "cell_type": "code",
      "source": "",
      "metadata": {},
      "execution_count": null,
      "outputs": []
    }
  ]
}