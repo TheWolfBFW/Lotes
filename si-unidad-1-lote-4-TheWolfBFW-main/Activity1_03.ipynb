{
  "metadata": {
    "kernelspec": {
      "name": "python",
      "display_name": "Pyolite",
      "language": "python"
    },
    "language_info": {
      "codemirror_mode": {
        "name": "python",
        "version": 3
      },
      "file_extension": ".py",
      "mimetype": "text/x-python",
      "name": "python",
      "nbconvert_exporter": "python",
      "pygments_lexer": "ipython3",
      "version": "3.8"
    }
  },
  "nbformat_minor": 4,
  "nbformat": 4,
  "cells": [
    {
      "cell_type": "markdown",
      "source": "# Activity 1.03: Fixing the First and Second Moves of the AI to Make It Invincible\n\nIn this activity, we will be combining our previous activities by teaching the AI how to recognize both a win and a loss so that it can focus on finding moves that are more useful than others. We will be reducing the possible games by hardcoding the first and second moves:\n\n  > **Hints**  \n  >  1. Reuse the code from Steps 2–4 of Activity 1.02.\n  >  2. Count the number of empty fields on the board and make a hardcoded move in case there are 9 or 7 empty fields. You can experiment with different hardcoded moves.\n  >  3. Occupying any corner, and then occupying the opposite corner, leads to no losses. If the opponent occupies the opposite corner, making a move in the middle results in no losses.\n  >  4. After fixing the first two steps, we only need to deal with 8 possibilities instead of 504. We also need to guide the AI into a state where the hardcoded rules are enough so that it never loses a game.\n  \nOutput:\n\n```\nstep 0. Moves: 1\nstep 1. Moves: 1\nstep 2. Moves: 8\nstep 3. Moves: 8\nstep 4. Moves: 48\nstep 5. Moves: 38\nstep 6. Moves: 108\nstep 7. Moves: 76\nstep 8. Moves: 90\nFirst player wins: 128\nSecond player wins: 0\nDraw 60\nTotal 188\n```",
      "metadata": {}
    },
    {
      "cell_type": "code",
      "source": "# Reuse the code from Steps 2–4 of the Activity 1.02",
      "metadata": {},
      "execution_count": 1,
      "outputs": []
    },
    {
      "cell_type": "code",
      "source": "from random import choice\n\ncombo_indices = [\n    [0, 1, 2],\n    [3, 4, 5],\n    [6, 7, 8],\n    [0, 3, 6],\n    [1, 4, 7],\n    [2, 5, 8],\n    [0, 4, 8],\n    [2, 4, 6]\n]\n\nEMPTY_SIGN = '.'\nAI_SIGN = 'X'\nOPPONENT_SIGN = 'O'\n\n\ndef print_board(board):\n    print(\" \")\n    print(' '.join(board[:3]))\n    print(' '.join(board[3:6]))\n    print(' '.join(board[6:]))\n    print(\" \")\n\ndef opponent_move(board, row, column):\n    index = 3 * (row - 1) + (column - 1)\n    if board[index] == EMPTY_SIGN:\n        return board[:index] + OPPONENT_SIGN + board[index+1:]\n    return board\n\ndef game_won_by(board):\n    for index in combo_indices:\n        if board[index[0]] == board[index[1]] == board[index[2]] != EMPTY_SIGN:\n            return board[index[0]]\n    return EMPTY_SIGN\n\ndef game_loop():\n    board = EMPTY_SIGN * 9\n    empty_cell_count = 9\n    is_game_ended = False\n    while empty_cell_count > 0 and not is_game_ended:\n        if empty_cell_count % 2 == 1:\n            board = ai_move(board)\n        else:\n            row = int(input('Enter row: '))\n            col = int(input('Enter column: '))\n            board = opponent_move(board, row, col)\n        print_board(board)\n        is_game_ended = game_won_by(board) != EMPTY_SIGN\n        empty_cell_count = sum(1 for cell in board if cell == EMPTY_SIGN)\n    print('Game has been ended.')\n\ndef all_moves_from_board_list(board_list, sign):\n    move_list = []\n    for board in board_list:\n        move_list.extend(all_moves_from_board(board, sign))\n    return move_list\n\ndef filter_wins(move_list, ai_wins, opponent_wins):\n    for board in move_list:\n        won_by = game_won_by(board)\n        if won_by == AI_SIGN:\n            ai_wins.append(board)\n            move_list.remove(board)\n        elif won_by == OPPONENT_SIGN:\n            opponent_wins.append(board)\n            move_list.remove(board)\n\ndef count_possibilities():\n    board = EMPTY_SIGN * 9\n    move_list = [board]\n    ai_wins = []\n    opponent_wins = []\n    for i in range(9):\n        print('step ' + str(i) + '. Moves: ' + str(len(move_list)))\n        sign = AI_SIGN if i % 2 == 0 else OPPONENT_SIGN\n        move_list = all_moves_from_board_list(move_list, sign)\n        filter_wins(move_list, ai_wins, opponent_wins)\n    print('First player wins: ' + str(len(ai_wins)))\n    print('Second player wins: ' + str(len(opponent_wins)))\n    print('Draw', str(len(move_list)))\n    print('Total', str(len(ai_wins) + len(opponent_wins) + len(move_list)))\n    return len(ai_wins), len(opponent_wins), len(move_list), len(ai_wins) + len(opponent_wins) + len(move_list)\n    \ndef player_can_win(board, sign):\n    next_moves = all_moves_from_board(board, sign)\n    for next_move in next_moves:\n        if game_won_by(next_move) == sign:\n            return True\n    return False\n\ndef ai_move(board):\n    new_boards = all_moves_from_board(board, AI_SIGN)\n    for new_board in new_boards:\n        if game_won_by(new_board) == AI_SIGN:\n            return new_board\n    safe_moves = []\n    for new_board in new_boards:\n        if not player_can_win(new_board, OPPONENT_SIGN):\n            safe_moves.append(new_board)\n    return choice(safe_moves) if len(safe_moves) > 0 else \\\n        new_boards[0]",
      "metadata": {
        "trusted": true
      },
      "execution_count": 4,
      "outputs": []
    },
    {
      "cell_type": "code",
      "source": "# Test the application",
      "metadata": {},
      "execution_count": 2,
      "outputs": []
    },
    {
      "cell_type": "code",
      "source": "game_loop()",
      "metadata": {
        "trusted": true
      },
      "execution_count": null,
      "outputs": []
    },
    {
      "cell_type": "code",
      "source": "# Step 2. ",
      "metadata": {},
      "execution_count": 3,
      "outputs": []
    },
    {
      "cell_type": "code",
      "source": "def all_moves_from_board(board, sign):\n    if sign == AI_SIGN:\n        empty_field_count = board.count(EMPTY_SIGN)\n        if empty_field_count == 9:\n            return [sign + EMPTY_SIGN * 8]\n        elif empty_field_count == 7:\n            return [\n                board[:8] + sign if board[8] == \\\n                    EMPTY_SIGN else\n                board[:4] + sign + board[5:]\n            ]\n    move_list = []\n    for i, v in enumerate(board):\n        if v == EMPTY_SIGN:\n            new_board = board[:i] + sign + board[i+1:]\n            move_list.append(new_board)\n            if game_won_by(new_board) == AI_SIGN:\n                return [new_board]\n    if sign == AI_SIGN:\n        safe_moves = []\n        for move in move_list:\n            if not player_can_win(move, OPPONENT_SIGN):\n                safe_moves.append(move)\n        return safe_moves if len(safe_moves) > 0 else \\\n            move_list[0:1]\n    else:\n        return move_list",
      "metadata": {
        "trusted": true
      },
      "execution_count": 5,
      "outputs": []
    },
    {
      "cell_type": "code",
      "source": "# step 3 verify the state space",
      "metadata": {
        "trusted": true
      },
      "execution_count": 6,
      "outputs": []
    },
    {
      "cell_type": "markdown",
      "source": "After fixing the first two steps, we only need to deal with 8 possibilities instead of 504. We also guided the AI into a state where the hardcoded rules were sufficient enough for it to never lose a game. Fixing the steps is not important because we would give the AI hardcoded steps to start with, but it is important because it is a tool that is used to evaluate and compare each step. After fixing the first two steps, we only need to deal with 8 possibilities instead of 504. We also guided the AI into a state, where the hardcoded rules were sufficient for never losing a game. As you can see, the AI is now nearly invincible and will only win or make a draw.\n\nThe best that a player can hope to get against this AI is a draw.",
      "metadata": {}
    },
    {
      "cell_type": "code",
      "source": "first_player, second_player, draw, total = count_possibilities()",
      "metadata": {
        "trusted": true
      },
      "execution_count": 7,
      "outputs": [
        {
          "name": "stdout",
          "text": "step 0. Moves: 1\nstep 1. Moves: 1\nstep 2. Moves: 8\nstep 3. Moves: 8\nstep 4. Moves: 48\nstep 5. Moves: 38\nstep 6. Moves: 108\nstep 7. Moves: 76\nstep 8. Moves: 90\nFirst player wins: 128\nSecond player wins: 0\nDraw 60\nTotal 188\n",
          "output_type": "stream"
        }
      ]
    },
    {
      "cell_type": "code",
      "source": "",
      "metadata": {},
      "execution_count": null,
      "outputs": []
    }
  ]
}