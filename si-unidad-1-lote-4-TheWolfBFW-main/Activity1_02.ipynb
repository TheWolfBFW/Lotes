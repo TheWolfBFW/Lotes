{
  "metadata": {
    "kernelspec": {
      "name": "python",
      "display_name": "Pyolite",
      "language": "python"
    },
    "language_info": {
      "codemirror_mode": {
        "name": "python",
        "version": 3
      },
      "file_extension": ".py",
      "mimetype": "text/x-python",
      "name": "python",
      "nbconvert_exporter": "python",
      "pygments_lexer": "ipython3",
      "version": "3.8"
    }
  },
  "nbformat_minor": 4,
  "nbformat": 4,
  "cells": [
    {
      "cell_type": "markdown",
      "source": "# Activity 1.02: Teaching the Agent to Realize Situations When It Defends Against Losses\n\nIn this activity, we will force the computer to defend against a loss if the player puts their third sign in a row, column, or diagonal line:\n\n  > **Hints**  \n  >  1. Reuse all the code from Steps 1–5 from the Exercise 1.03.\n  >  2. Create a function called `player_can_win` that takes all the moves from the board using the `all_moves_from_board` function and iterates over it using a variable called `next_move`. On each iteration, it checks whether the game can be won by the sign, and then it returns `True` or `False`.\n  >  3. Extend the AI's move so that it prefers making safe moves. A move is safe if the opponent cannot win the game in the next step.\n  >  4. Test the new application. You will find that the AI has made the correct move.\n  >  5. Place this logic in the state space generator and check how well the computer player is doing by generating all possible games.\n  \nOutput:\n\n```\nstep 0. Moves: 1\nstep 1. Moves: 9\nstep 2. Moves: 72\nstep 3. Moves: 504\nstep 4. Moves: 3024\nstep 5. Moves: 5197\nstep 6. Moves: 18606\nstep 7. Moves: 19592\nstep 8. Moves: 30936\nFirst player wins: 20843\nSecond player wins: 962\nDraw 20243\nTotal 42048\n```",
      "metadata": {}
    },
    {
      "cell_type": "code",
      "source": "# steps Steps 1-5 from Exercise 1.02",
      "metadata": {},
      "execution_count": 21,
      "outputs": []
    },
    {
      "cell_type": "code",
      "source": "# steps 2-5 of Acctivity 1.01",
      "metadata": {},
      "execution_count": 22,
      "outputs": []
    },
    {
      "cell_type": "code",
      "source": "from random import choice\n\ncombo_indices = [\n    [0, 1, 2],\n    [3, 4, 5],\n    [6, 7, 8],\n    [0, 3, 6],\n    [1, 4, 7],\n    [2, 5, 8],\n    [0, 4, 8],\n    [2, 4, 6]\n]\n\nEMPTY_SIGN = '.'\nAI_SIGN = 'X'\nOPPONENT_SIGN = 'O'\n\n\ndef print_board(board):\n    print(\" \")\n    print(' '.join(board[:3]))\n    print(' '.join(board[3:6]))\n    print(' '.join(board[6:]))\n    print(\" \")\n\ndef opponent_move(board, row, column):\n    index = 3 * (row - 1) + (column - 1)\n    if board[index] == EMPTY_SIGN:\n        return board[:index] + OPPONENT_SIGN + board[index+1:]\n    return board\n\ndef game_won_by(board):\n    for index in combo_indices:\n        if board[index[0]] == board[index[1]] == board[index[2]] != EMPTY_SIGN:\n            return board[index[0]]\n    return EMPTY_SIGN\n\ndef game_loop():\n    board = EMPTY_SIGN * 9\n    empty_cell_count = 9\n    is_game_ended = False\n    while empty_cell_count > 0 and not is_game_ended:\n        if empty_cell_count % 2 == 1:\n            board = ai_move(board)\n        else:\n            row = int(input('Enter row: '))\n            col = int(input('Enter column: '))\n            board = opponent_move(board, row, col)\n        print_board(board)\n        is_game_ended = game_won_by(board) != EMPTY_SIGN\n        empty_cell_count = sum(1 for cell in board if cell == EMPTY_SIGN)\n    print('Game has been ended.')\n\ndef all_moves_from_board_list(board_list, sign):\n    move_list = []\n    for board in board_list:\n        move_list.extend(all_moves_from_board(board, sign))\n    return move_list\n\ndef filter_wins(move_list, ai_wins, opponent_wins):\n    for board in move_list:\n        won_by = game_won_by(board)\n        if won_by == AI_SIGN:\n            ai_wins.append(board)\n            move_list.remove(board)\n        elif won_by == OPPONENT_SIGN:\n            opponent_wins.append(board)\n            move_list.remove(board)\n\ndef count_possibilities():\n    board = EMPTY_SIGN * 9\n    move_list = [board]\n    ai_wins = []\n    opponent_wins = []\n    for i in range(9):\n        print('step ' + str(i) + '. Moves: ' + str(len(move_list)))\n        sign = AI_SIGN if i % 2 == 0 else OPPONENT_SIGN\n        move_list = all_moves_from_board_list(move_list, sign)\n        filter_wins(move_list, ai_wins, opponent_wins)\n    print('First player wins: ' + str(len(ai_wins)))\n    print('Second player wins: ' + str(len(opponent_wins)))\n    print('Draw', str(len(move_list)))\n    print('Total', str(len(ai_wins) + len(opponent_wins) + len(move_list)))\n    return len(ai_wins), len(opponent_wins), len(move_list), len(ai_wins) + len(opponent_wins) + len(move_list)",
      "metadata": {
        "trusted": true
      },
      "execution_count": 6,
      "outputs": []
    },
    {
      "cell_type": "code",
      "source": "# define the function player_can_win",
      "metadata": {
        "trusted": true
      },
      "execution_count": 7,
      "outputs": []
    },
    {
      "cell_type": "code",
      "source": "def player_can_win(board, sign):\n    next_moves = all_moves_from_board(board, sign)\n    for next_move in next_moves:\n        if game_won_by(next_move) == sign:\n            return True\n    return False",
      "metadata": {
        "trusted": true
      },
      "execution_count": 8,
      "outputs": []
    },
    {
      "cell_type": "code",
      "source": "# re define the ai_move function",
      "metadata": {
        "trusted": true
      },
      "execution_count": 9,
      "outputs": []
    },
    {
      "cell_type": "code",
      "source": "def ai_move(board):\n    new_boards = all_moves_from_board(board, AI_SIGN)\n    for new_board in new_boards:\n        if game_won_by(new_board) == AI_SIGN:\n            return new_board\n    safe_moves = []\n    for new_board in new_boards:\n        if not player_can_win(new_board, OPPONENT_SIGN):\n            safe_moves.append(new_board)\n    return choice(safe_moves) if len(safe_moves) > 0 else \\\n        new_boards[0]",
      "metadata": {
        "trusted": true
      },
      "execution_count": 10,
      "outputs": []
    },
    {
      "cell_type": "code",
      "source": "def all_moves_from_board(board, sign):\n    move_list = []\n    for i, v in enumerate(board):\n        if v == EMPTY_SIGN:\n            new_board = board[:i] + sign + board[i+1:]\n            move_list.append(new_board)\n            if game_won_by(new_board) == AI_SIGN:\n                return [new_board]\n    if sign == AI_SIGN:\n        safe_moves = []\n        for move in move_list:\n            if not player_can_win(move, OPPONENT_SIGN):\n                safe_moves.append(move)\n        return safe_moves if len(safe_moves) > 0 else \\\n            move_list[0:1]\n    else:\n        return move_list",
      "metadata": {
        "trusted": true
      },
      "execution_count": 11,
      "outputs": []
    },
    {
      "cell_type": "code",
      "source": "# Test the application",
      "metadata": {
        "trusted": true
      },
      "execution_count": 12,
      "outputs": []
    },
    {
      "cell_type": "code",
      "source": "# place this logic in the state space generator and check how well the computer player is doing by generating all the possible games ",
      "metadata": {
        "trusted": true
      },
      "execution_count": 13,
      "outputs": []
    },
    {
      "cell_type": "code",
      "source": "# Count the options that are possible",
      "metadata": {
        "trusted": true
      },
      "execution_count": 14,
      "outputs": []
    },
    {
      "cell_type": "code",
      "source": "first_player, second_player, draw, total = count_possibilities()",
      "metadata": {
        "trusted": true
      },
      "execution_count": 15,
      "outputs": [
        {
          "name": "stdout",
          "text": "step 0. Moves: 1\nstep 1. Moves: 9\nstep 2. Moves: 72\nstep 3. Moves: 504\nstep 4. Moves: 3024\nstep 5. Moves: 5197\nstep 6. Moves: 18606\nstep 7. Moves: 19592\nstep 8. Moves: 30936\nFirst player wins: 20843\nSecond player wins: 962\nDraw 20243\nTotal 42048\n",
          "output_type": "stream"
        }
      ]
    },
    {
      "cell_type": "code",
      "source": "",
      "metadata": {},
      "execution_count": null,
      "outputs": []
    }
  ]
}