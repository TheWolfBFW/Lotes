{
  "metadata": {
    "kernelspec": {
      "name": "python",
      "display_name": "Pyolite",
      "language": "python"
    },
    "language_info": {
      "codemirror_mode": {
        "name": "python",
        "version": 3
      },
      "file_extension": ".py",
      "mimetype": "text/x-python",
      "name": "python",
      "nbconvert_exporter": "python",
      "pygments_lexer": "ipython3",
      "version": "3.8"
    }
  },
  "nbformat_minor": 4,
  "nbformat": 4,
  "cells": [
    {
      "cell_type": "markdown",
      "source": "# Exercise 1.05: Finding the Shortest Path Using BFS\n\nIn this exercise, we will be finding the shortest path to our goal using the BFS algorithm.",
      "metadata": {}
    },
    {
      "cell_type": "markdown",
      "source": "1.- Begin by importing the math library",
      "metadata": {}
    },
    {
      "cell_type": "code",
      "source": "import math",
      "metadata": {
        "trusted": true
      },
      "execution_count": 1,
      "outputs": []
    },
    {
      "cell_type": "markdown",
      "source": "2.- Describe the board of the Figure 1.14, the initial state, and the final state using Python.\n\n  > **Hints**  \n  >  * Create a function that returns a list of possible successors. Use tuples, where the first coordinate denotes the row number from $1$ to $7$ and the second coordinate denotes the column number from $1$ to $9$. Then use array comprehension to generate the successor states.\n  >  * The function generate all the possible moves from a current field that does not end up being blocked by an obstacle. Also add a filter to exclude moves that return to a field visited already to avoid infinite loops.\n  ",
      "metadata": {}
    },
    {
      "cell_type": "code",
      "source": "def successors(state, visited_nodes):\n    (row, col) = state\n    (max_row, max_col) = size\n    succ_states = []\n    if row > 1:\n        succ_states += [(row-1, col)]\n    if col > 1:\n        succ_states += [(row, col-1)]\n    if row < max_row:\n        succ_states += [(row+1, col)]\n    if col < max_col:\n        succ_states += [(row, col+1)]\n    return [s for s in succ_states if s not in visited_nodes if s not in obstacles]",
      "metadata": {
        "trusted": true
      },
      "execution_count": 2,
      "outputs": []
    },
    {
      "cell_type": "markdown",
      "source": "3.-  Implement the initial costs",
      "metadata": {}
    },
    {
      "cell_type": "code",
      "source": "def initialize_costs(size, start):\n    (h, w) = size\n    costs = [[math.inf] * w for i in range(h)]\n    (x, y) = start\n    costs[x-1][y-1] = 0\n    return costs",
      "metadata": {
        "trusted": true
      },
      "execution_count": 3,
      "outputs": []
    },
    {
      "cell_type": "markdown",
      "source": "4.- Implement the updated costs using `costs`, `current_node`, and `successor_node`",
      "metadata": {}
    },
    {
      "cell_type": "code",
      "source": "def update_costs(costs, current_node, successor_nodes):\n    new_cost = costs[current_node[0]-1][current_node[1]-1] + 1\n    for (x, y) in successor_nodes:\n        costs[x-1][y-1] = min(costs[x-1][y-1], new_cost)\ndef bfs_tree(node):\n    nodes_to_visit = [node]\n    visited_nodes = []\n    costs = initialize_costs(size, start)\n    while len(nodes_to_visit) > 0:\n        current_node = nodes_to_visit.pop(0)\n        visited_nodes.append(current_node)\n        successor_nodes = successors(current_node, visited_nodes)\n        update_costs(costs, current_node, successor_nodes)\n        nodes_to_visit.extend(successor_nodes)\n    return costs\ndef bfs_tree_verbose(node):\n    nodes_to_visit = [node]\n    visited_nodes = []\n    costs = initialize_costs(size, start)\n    step_counter = 0\n    while len(nodes_to_visit) > 0:\n        step_counter += 1\n        current_node = nodes_to_visit.pop(0)\n        visited_nodes.append(current_node)\n        successor_nodes = successors(current_node, visited_nodes)\n        update_costs(costs, current_node, successor_nodes)\n        nodes_to_visit.extend(successor_nodes)\n        if current_node == end:\n            print('End node has been reached in ', step_counter, ' steps')\n            return costs\n    return costs\nbfs = bfs_tree(start)\nbfs",
      "metadata": {
        "trusted": true
      },
      "execution_count": 19,
      "outputs": [
        {
          "execution_count": 19,
          "output_type": "execute_result",
          "data": {
            "text/plain": "[[6, 5, 4, 5, 6, 7, 8, 9, 10],\n [5, 4, 3, 4, 5, 6, 7, 8, 9],\n [4, 3, 2, inf, inf, inf, inf, inf, 10],\n [3, 2, 1, 2, inf, 12, 13, 12, 11],\n [2, 1, 0, 1, inf, 11, inf, 13, inf],\n [3, inf, inf, inf, inf, 10, inf, 14, 15],\n [4, 5, 6, 7, 8, 9, inf, 15, 16]]"
          },
          "metadata": {}
        }
      ]
    },
    {
      "cell_type": "markdown",
      "source": "5.- Finally, implement the BFS algorithm to search the state of the tree and save the result in a variable called `bfs`.\n\n  > **Hints**  \n  > You can reuse the `bfs_tree` function that we looked at earlier in the Breadth First Search section. However, add the `update_costs` function to update the costs.\n\nThe expected output is this:\n\n```\n[[6, 5, 4, 5, 6, 7, 8, 9, 10],\n [5, 4, 3, 4, 5, 6, 7, 8, 9],\n [4, 3, 2, inf, inf, inf, inf, inf, 10],\n [3, 2, 1, 2, inf, 12, 13, 12, 11],\n [2, 1, 0, 1, inf, 11, inf, 13, inf],\n [3, inf, inf, inf, inf, 10, inf, 14, 15],\n [4, 5, 6, 7, 8, 9, inf, 15, 16]]\n```",
      "metadata": {}
    },
    {
      "cell_type": "markdown",
      "source": "6.- Measure the number of steps required to find the goal node and save the result in the bfs_v variable.\n\n  > **Hints**  \n  > Re define the `bfs_tree` and add a step counter variable in order to print the number of steps at the end of the search\n  \nOutput\n\n```\nEnd node has been reached in 110 steps\n[[6, 5, 4, 5, 6, 7, 8, 9, 10],\n [5, 4, 3, 4, 5, 6, 7, 8, 9],\n [4, 3, 2, inf, inf, inf, inf, inf, 10],\n [3, 2, 1, 2, inf, 12, 13, 12, 11],\n [2, 1, 0, 1, inf, 11, inf, 13, inf],\n [3, inf, inf, inf, inf, 10, inf, 14, 15],\n [4, 5, 6, 7, 8, 9, inf, 15, 16]]\n```",
      "metadata": {}
    },
    {
      "cell_type": "code",
      "source": "bfs_v = bfs_tree_verbose(start)\nbfs_v",
      "metadata": {
        "trusted": true
      },
      "execution_count": 20,
      "outputs": [
        {
          "name": "stdout",
          "text": "End node has been reached in  110  steps\n",
          "output_type": "stream"
        },
        {
          "execution_count": 20,
          "output_type": "execute_result",
          "data": {
            "text/plain": "[[6, 5, 4, 5, 6, 7, 8, 9, 10],\n [5, 4, 3, 4, 5, 6, 7, 8, 9],\n [4, 3, 2, inf, inf, inf, inf, inf, 10],\n [3, 2, 1, 2, inf, 12, 13, 12, 11],\n [2, 1, 0, 1, inf, 11, inf, 13, inf],\n [3, inf, inf, inf, inf, 10, inf, 14, 15],\n [4, 5, 6, 7, 8, 9, inf, 15, 16]]"
          },
          "metadata": {}
        }
      ]
    },
    {
      "cell_type": "markdown",
      "source": "In this exercise, we used the BFS algorithm to find the shortest path to the goal. It took BFS 110 steps to reach the goal. Now, we will learn about an algorithm that can find the shortest path from the start node to the goal node: the A* algorithm.",
      "metadata": {}
    },
    {
      "cell_type": "code",
      "source": "",
      "metadata": {
        "trusted": true
      },
      "execution_count": null,
      "outputs": []
    }
  ]
}