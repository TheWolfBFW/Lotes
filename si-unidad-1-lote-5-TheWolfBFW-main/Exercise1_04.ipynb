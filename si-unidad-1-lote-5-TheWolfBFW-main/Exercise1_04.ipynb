{
  "metadata": {
    "kernelspec": {
      "name": "python",
      "display_name": "Pyolite",
      "language": "python"
    },
    "language_info": {
      "codemirror_mode": {
        "name": "python",
        "version": 3
      },
      "file_extension": ".py",
      "mimetype": "text/x-python",
      "name": "python",
      "nbconvert_exporter": "python",
      "pygments_lexer": "ipython3",
      "version": "3.8"
    }
  },
  "nbformat_minor": 4,
  "nbformat": 4,
  "cells": [
    {
      "cell_type": "markdown",
      "source": "# Exercise 1.04: Tic-Tac-Toe Static Evaluation with a Heuristic Function\nIn this exercise, you will be performing a static evaluation on the tic-tac-toe game using a heuristic function.",
      "metadata": {}
    },
    {
      "cell_type": "markdown",
      "source": "1.- Reuse the code from Steps 1–5 of Activity 1.01",
      "metadata": {}
    },
    {
      "cell_type": "code",
      "source": "from random import choice\n\ncombo_indices = [\n    [0, 1, 2],\n    [3, 4, 5],\n    [6, 7, 8],\n    [0, 3, 6],\n    [1, 4, 7],\n    [2, 5, 8],\n    [0, 4, 8],\n    [2, 4, 6]\n]\n\nEMPTY_SIGN = '.'\nAI_SIGN = 'X'\nOPPONENT_SIGN = 'O'\n\ndef print_board(board):\n    print(\" \")\n    print(' '.join(board[:3]))\n    print(' '.join(board[3:6]))\n    print(' '.join(board[6:]))\n    print(\" \")\n\ndef opponent_move(board, row, column):\n    index = 3 * (row - 1) + (column - 1)\n    if board[index] == EMPTY_SIGN:\n        return board[:index] + OPPONENT_SIGN + board[index+1:]\n    return board\n\ndef all_moves_from_board(board, sign):\n    move_list = []\n    for i, v in enumerate(board):\n        if v == EMPTY_SIGN:\n            move_list.append(board[:i] + sign + board[i+1:])\n    return move_list\n\ndef ai_move(board):\n    return choice(all_moves_from_board(board, AI_SIGN))\n\ndef game_won_by(board):\n    for index in combo_indices:\n        if board[index[0]] == board[index[1]] == board[index[2]] != EMPTY_SIGN:\n            return board[index[0]]\n    return EMPTY_SIGN\n\ndef game_loop():\n    board = EMPTY_SIGN * 9\n    empty_cell_count = 9\n    is_game_ended = False\n    while empty_cell_count > 0 and not is_game_ended:\n        if empty_cell_count % 2 == 1:\n            board = ai_move(board)\n        else:\n            row = int(input('Enter row: '))\n            col = int(input('Enter column: '))\n            board = opponent_move(board, row, col)\n        print_board(board)\n        is_game_ended = game_won_by(board) != EMPTY_SIGN\n        empty_cell_count = sum(1 for cell in board if cell == EMPTY_SIGN)\n    print('Game has been ended.')\n\ndef all_moves_from_board_list(board_list, sign):\n    move_list = []\n    for board in board_list:\n        move_list.extend(all_moves_from_board(board, sign))\n    return move_list\n\ndef filter_wins(move_list, ai_wins, opponent_wins):\n    for board in move_list:\n        won_by = game_won_by(board)\n        if won_by == AI_SIGN:\n            ai_wins.append(board)\n            move_list.remove(board)\n        elif won_by == OPPONENT_SIGN:\n            opponent_wins.append(board)\n            move_list.remove(board)\n\ndef count_possibilities():\n    board = EMPTY_SIGN * 9\n    move_list = [board]\n    ai_wins = []\n    opponent_wins = []\n    for i in range(9):\n        print('step ' + str(i) + '. Moves: ' + str(len(move_list)))\n        sign = AI_SIGN if i % 2 == 0 else OPPONENT_SIGN\n        move_list = all_moves_from_board_list(move_list, sign)\n        filter_wins(move_list, ai_wins, opponent_wins)\n    print('First player wins: ' + str(len(ai_wins)))\n    print('Second player wins: ' + str(len(opponent_wins)))\n    print('Draw', str(len(move_list)))\n    print('Total', str(len(ai_wins) + len(opponent_wins) + len(move_list)))\n    return len(ai_wins), len(opponent_wins), len(move_list), len(ai_wins) + len(opponent_wins) + len(move_list)",
      "metadata": {
        "trusted": true
      },
      "execution_count": 1,
      "outputs": []
    },
    {
      "cell_type": "markdown",
      "source": "2.- Create a function that takes the board as input and returns $0$ if the cell is empty, and $-1$ if it's not empty",
      "metadata": {}
    },
    {
      "cell_type": "code",
      "source": "def init_utility_matrix(board):\n    return [0 if cell == EMPTY_SIGN else -1 for cell in board]",
      "metadata": {
        "trusted": true
      },
      "execution_count": 2,
      "outputs": []
    },
    {
      "cell_type": "markdown",
      "source": "3.- Create a function that takes the utility vector of possible moves, takes three indices inside the utility vector representing a triple, and returns a function.\n\n  > **Hints**  \n  > the returned function will expect a `points` parameter and the `utilities` vector as input and will add points to each cell in $(i, j, k)$, as long as the original value of that cell is non-negative $(>=0)$. In other words, we increased the utility of empty cells only.",
      "metadata": {}
    },
    {
      "cell_type": "code",
      "source": "def generate_add_score(utilities, i, j, k):\n    def add_score(points):\n        if utilities[i] >= 0:\n            utilities[i] += points\n        if utilities[j] >= 0:\n            utilities[j] += points\n        if utilities[k] >= 0:\n            utilities[k] += points\n    return add_score",
      "metadata": {
        "trusted": true
      },
      "execution_count": 3,
      "outputs": []
    },
    {
      "cell_type": "markdown",
      "source": "4.- Now, create the utility matrix belonging to any board constellation where you will add the `generate_add_score` function defined previously to update the score. You will also implement the rules that we discussed prior to this activity. These rules are as follows:\n  * Two AI signs in a row, column, or diagonal, and the third cell is empty: +1000 for the empty cell.\n  * The opponent has two signs in a row, column, or diagonal, and the third cell is empty: +100 for the empty cell.\n  * One AI sign in a row, column, or diagonal, and the other two cells are empty: +10 for the empty cells.\n  * No AI or opponent signs in a row, column, or diagonal: +1 for the empty cells.",
      "metadata": {}
    },
    {
      "cell_type": "code",
      "source": "def utility_matrix(board):\n    utilities = init_utility_matrix(board)\n    for [i, j, k] in combo_indices:\n        add_score = generate_add_score(utilities, i, j, k)\n        triple = [board[i], board[j], board[k]]\n        if triple.count(EMPTY_SIGN) == 1:\n            if triple.count(AI_SIGN) == 2:\n                add_score(1000)\n            elif triple.count(OPPONENT_SIGN) == 2:\n                add_score(100)\n        elif triple.count(EMPTY_SIGN) == 2 and triple.count(AI_SIGN) == 1:\n            add_score(10)\n        elif triple.count(EMPTY_SIGN) == 3:\n            add_score(1)\n    return utilities\n",
      "metadata": {
        "trusted": true
      },
      "execution_count": 4,
      "outputs": []
    },
    {
      "cell_type": "markdown",
      "source": "5.- Create a function that selects the move with the highest utility value. If multiple moves have the same utility, the function returns both moves",
      "metadata": {}
    },
    {
      "cell_type": "code",
      "source": "def best_moves_from_board(board, sign):\n    move_list = []\n    utilities = utility_matrix(board)\n    max_utility = max(utilities)\n    for i, v in enumerate(board):\n        if utilities[i] == max_utility:\n            move_list.append(board[:i] + sign + board[i+1:])\n    return move_list\n\ndef all_moves_from_board_list(board_list, sign):\n    move_list = []\n    get_moves = best_moves_from_board if sign == AI_SIGN else all_moves_from_board\n    for board in board_list:\n        move_list.extend(get_moves(board, sign))\n    return move_list",
      "metadata": {
        "trusted": true
      },
      "execution_count": 5,
      "outputs": []
    },
    {
      "cell_type": "markdown",
      "source": "6.- Run the application.\n\nOutput:\n\n```\nstep 0. Moves: 1\nstep 1. Moves: 1\nstep 2. Moves: 8\nstep 3. Moves: 24\nstep 4. Moves: 144\nstep 5. Moves: 83\nstep 6. Moves: 214\nstep 7. Moves: 148\nstep 8. Moves: 172\nFirst player wins: 504\nSecond player wins: 12\nDraw 91\nTotal 607\n```",
      "metadata": {}
    },
    {
      "cell_type": "code",
      "source": "first_player, second_player, draw, total = count_possibilities()",
      "metadata": {
        "trusted": true
      },
      "execution_count": 6,
      "outputs": [
        {
          "name": "stdout",
          "text": "step 0. Moves: 1\nstep 1. Moves: 1\nstep 2. Moves: 8\nstep 3. Moves: 24\nstep 4. Moves: 144\nstep 5. Moves: 83\nstep 6. Moves: 214\nstep 7. Moves: 148\nstep 8. Moves: 172\nFirst player wins: 504\nSecond player wins: 12\nDraw 91\nTotal 607\n",
          "output_type": "stream"
        }
      ]
    },
    {
      "cell_type": "markdown",
      "source": "By completing this exercise, we have observed that the AI is underperforming compared to our previous activity, Activity 1.03, Fixing the First and Second Moves of the AI to Make It Invincible. In this situation, hardcoding the first two moves was better than setting up the heuristic, but this is because we haven't set up the heuristic properly.",
      "metadata": {}
    },
    {
      "cell_type": "code",
      "source": "",
      "metadata": {},
      "execution_count": null,
      "outputs": []
    }
  ]
}